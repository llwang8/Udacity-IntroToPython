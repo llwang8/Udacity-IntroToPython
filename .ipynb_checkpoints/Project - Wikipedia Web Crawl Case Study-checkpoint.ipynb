{
 "cells": [
  {
   "cell_type": "markdown",
   "metadata": {},
   "source": [
    "# Udacity - Intro to Python\n",
    "## Wikipedia Web Crawl Case Study\n"
   ]
  },
  {
   "cell_type": "code",
   "execution_count": 51,
   "metadata": {
    "collapsed": false
   },
   "outputs": [],
   "source": [
    "#from urllib.parse import urlparse\n",
    "from urlparse import urlparse\n",
    "import requests\n",
    "from bs4 import BeautifulSoup\n",
    "import time"
   ]
  },
  {
   "cell_type": "code",
   "execution_count": 5,
   "metadata": {
    "collapsed": false
   },
   "outputs": [
    {
     "name": "stdout",
     "output_type": "stream",
     "text": [
      "<type 'unicode'>\n"
     ]
    }
   ],
   "source": [
    "# Laying ground work\n",
    "\n",
    "response = requests.get('https://en.wikipedia.org/wiki/Dead_Parrot_sketch')\n",
    "#print(response.text)\n",
    "print(type(response.text))"
   ]
  },
  {
   "cell_type": "code",
   "execution_count": 7,
   "metadata": {
    "collapsed": false
   },
   "outputs": [
    {
     "name": "stdout",
     "output_type": "stream",
     "text": [
      "<a href=\"/wiki/Sketch_comedy\" title=\"Sketch comedy\">sketch</a>\n"
     ]
    }
   ],
   "source": [
    "\n",
    "soup = BeautifulSoup(response.text, 'html.parser')\n",
    "print(soup.p.a)\n",
    "\n",
    "# soup.p.fina_all('a)\n",
    "# soup.find(id='image-gallery')"
   ]
  },
  {
   "cell_type": "markdown",
   "metadata": {},
   "source": [
    "Steps to follow:\n",
    "- Open an article\n",
    "- Find the first link in the article\n",
    "- Follow the link\n",
    "- Repeat this process until we reach the Philosophy article, or get stuck in an article cycle.\n",
    "\n",
    "The program should end the while loop when:\n",
    "- we reach Philosophy,\n",
    "- we reach a page we've already visited, hence find ourselves in a cycle of articles (like the case of Chair,\n",
    "- we go on for too long (we think that 25 steps is plenty, but you can adjust this if you like), or\n",
    "- we find a page that has no links on it - we simply can't keep going in this case.\n",
    "\n",
    "Psudo codes:\n",
    "page = a random starting page\n",
    "article_chain = []\n",
    "while title of page isn't 'Philosophy' and we have not discovered a cycle:\n",
    "    append page to article_chain\n",
    "    download the page content\n",
    "    find the first link in the content\n",
    "    page = that link\n",
    "    pause for a second"
   ]
  },
  {
   "cell_type": "code",
   "execution_count": null,
   "metadata": {
    "collapsed": true
   },
   "outputs": [],
   "source": [
    "# TODO: Implement the continue_crawl function described above\n",
    "def continue_crawl(search_history, target_url, max_steps=25):\n",
    "    if search_history[-1] == target_url:\n",
    "        print('We have found the target url!')\n",
    "        return False\n",
    "    elif len(search_history) > max_steps:\n",
    "        print('The search has been to 25 or more links')\n",
    "        return False\n",
    "    elif search_history[-1] in search_history[0:-2]:\n",
    "        print('The search is in loop')\n",
    "        return False\n",
    "    return True"
   ]
  },
  {
   "cell_type": "code",
   "execution_count": 54,
   "metadata": {
    "collapsed": false
   },
   "outputs": [],
   "source": [
    "\n",
    "def find_first_link(url):\n",
    "    # download html of last article in article_chain\n",
    "    response = requests.get(url)\n",
    "    soup = BeautifulSoup(response.text, 'html.parser')\n",
    "    \n",
    "    # find the first link in that html\n",
    "    #first_link = soup.find(id='mw-content-text').find(class_='mw-parser-output').p.a.get('href') \n",
    "    article_link = None\n",
    "        \n",
    "    content_div = soup.find(id=\"mw-content-text\").find(class_=\"mw-parser-output\")\n",
    "    for element in content_div.find_all(\"p\", recursive=False):\n",
    "        if element.find(\"a\", recursive=False):\n",
    "            article_link = element.find(\"a\", recursive=False).get('href')\n",
    "            break\n",
    "        \n",
    "    if not article_link:\n",
    "        return \n",
    "    # Build a full url from the relative article_link url\n",
    "    #first_link = urlparse.urljoin('https://en.wikipedia.org/', article_link)\n",
    "    first_link = urlparse('https://en.wikipedia.org/' + article_link)\n",
    "    \n",
    "    return first_link\n",
    "        "
   ]
  },
  {
   "cell_type": "code",
   "execution_count": 55,
   "metadata": {
    "collapsed": false
   },
   "outputs": [
    {
     "name": "stdout",
     "output_type": "stream",
     "text": [
      "ParseResult(scheme=u'https', netloc=u'en.wikipedia.org', path=u'//wiki/Ireland', params='', query='', fragment='')\n"
     ]
    }
   ],
   "source": [
    "print(find_first_link('https://en.wikipedia.org/wiki/A.J.W._McNeilly'))"
   ]
  },
  {
   "cell_type": "code",
   "execution_count": null,
   "metadata": {
    "collapsed": true
   },
   "outputs": [],
   "source": [
    "start_url = \"https://en.wikipedia.org/wiki/Special:Random\"\n",
    "target_url = \"https://en.wikipedia.org/wiki/Philosophy\"\n",
    "article_chain = [start_url]"
   ]
  },
  {
   "cell_type": "code",
   "execution_count": null,
   "metadata": {
    "collapsed": true
   },
   "outputs": [],
   "source": [
    "while continue_crawl(article_chain, target_url): \n",
    "    first_link = find_first_link(article_chain[-1])\n",
    "    if not first_link:\n",
    "        print(\"We've arrived at an article with no links, aborting search!\")\n",
    "        break\n",
    "            \n",
    "    # add the first link to article chain\n",
    "    article_chain.append(first_link)\n",
    "    # delay for about two seconds\n",
    "    time.sleep(2)"
   ]
  },
  {
   "cell_type": "code",
   "execution_count": null,
   "metadata": {
    "collapsed": true
   },
   "outputs": [],
   "source": [
    "\n"
   ]
  }
 ],
 "metadata": {
  "anaconda-cloud": {},
  "kernelspec": {
   "display_name": "Python [conda root]",
   "language": "python",
   "name": "conda-root-py"
  },
  "language_info": {
   "codemirror_mode": {
    "name": "ipython",
    "version": 2
   },
   "file_extension": ".py",
   "mimetype": "text/x-python",
   "name": "python",
   "nbconvert_exporter": "python",
   "pygments_lexer": "ipython2",
   "version": "2.7.12"
  }
 },
 "nbformat": 4,
 "nbformat_minor": 1
}
